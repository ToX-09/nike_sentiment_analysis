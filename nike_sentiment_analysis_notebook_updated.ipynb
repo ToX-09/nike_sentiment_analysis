{
 "cells": [
  {
   "cell_type": "markdown",
   "id": "afb4b0d4",
   "metadata": {},
   "source": [
    "# AI-Driven Sentiment Analysis on Nike Product Reviews\n",
    "This notebook demonstrates how NLP techniques can be used for sentiment analysis and keyword extraction on real-world product reviews, using Nike as the focus brand."
   ]
  },
  {
   "cell_type": "markdown",
   "id": "fc73b574",
   "metadata": {},
   "source": [
    "## 1. Load Dataset"
   ]
  },
  {
   "cell_type": "code",
   "execution_count": null,
   "id": "db3f2d50",
   "metadata": {},
   "outputs": [],
   "source": [
    "import pandas as pd\n",
    "\n",
    "# Load dataset\n",
    "url = 'nike_reviews_dataset.csv'\n",
    "df = pd.read_csv(url)\n",
    "df.head()"
   ]
  },
  {
   "cell_type": "markdown",
   "id": "fb7a92fb",
   "metadata": {},
   "source": [
    "## 2. Sentiment Analysis using TextBlob"
   ]
  },
  {
   "cell_type": "code",
   "execution_count": null,
   "id": "ced6f72d",
   "metadata": {},
   "outputs": [],
   "source": [
    "from textblob import TextBlob\n",
    "\n",
    "df[\"polarity\"] = df[\"review\"].apply(lambda x: TextBlob(x).sentiment.polarity)\n",
    "df[\"sentiment\"] = df[\"polarity\"].apply(lambda x: \"Positive\" if x > 0.1 else (\"Negative\" if x < -0.1 else \"Neutral\"))\n",
    "df[[\"review\", \"sentiment\"]]"
   ]
  },
  {
   "cell_type": "code",
   "execution_count": null,
   "id": "7b9ccf4d",
   "metadata": {},
   "outputs": [],
   "source": [
    "import matplotlib.pyplot as plt\n",
    "\n",
    "sentiment_counts = df[\"sentiment\"].value_counts()\n",
    "sentiment_counts.plot(kind=\"bar\", title=\"Sentiment Distribution\")\n",
    "plt.xlabel(\"Sentiment\")\n",
    "plt.ylabel(\"Count\")\n",
    "plt.tight_layout()\n",
    "plt.show()"
   ]
  },
  {
   "cell_type": "markdown",
   "id": "a48a0132",
   "metadata": {},
   "source": [
    "## 3. Keyword Extraction using CountVectorizer"
   ]
  },
  {
   "cell_type": "code",
   "execution_count": null,
   "id": "5b39cd96",
   "metadata": {},
   "outputs": [],
   "source": [
    "from sklearn.feature_extraction.text import CountVectorizer\n",
    "\n",
    "vectorizer = CountVectorizer(stop_words='english')\n",
    "X = vectorizer.fit_transform(df['review'])\n",
    "sum_words = X.sum(axis=0)\n",
    "\n",
    "words_freq = [(word, sum_words[0, idx]) for word, idx in vectorizer.vocabulary_.items()]\n",
    "words_freq = sorted(words_freq, key=lambda x: x[1], reverse=True)[:10]\n",
    "\n",
    "import pandas as pd\n",
    "keywords_df = pd.DataFrame(words_freq, columns=['Keyword', 'Frequency'])\n",
    "keywords_df"
   ]
  },
  {
   "cell_type": "code",
   "execution_count": null,
   "id": "65ddebec",
   "metadata": {},
   "outputs": [],
   "source": [
    "plt.figure(figsize=(8, 5))\n",
    "plt.bar(keywords_df['Keyword'], keywords_df['Frequency'])\n",
    "plt.title('Top Keywords in Nike Reviews')\n",
    "plt.xlabel('Keyword')\n",
    "plt.ylabel('Frequency')\n",
    "plt.tight_layout()\n",
    "plt.show()"
   ]
  },
  {
   "cell_type": "markdown",
   "id": "111ad0e7",
   "metadata": {},
   "source": [
    "## 4. Conclusion\n",
    "This notebook successfully applies NLP techniques to extract sentiment and common discussion themes from customer feedback. These insights can directly inform marketing strategies."
   ]
  }
 ],
 "metadata": {},
 "nbformat": 4,
 "nbformat_minor": 5
}
